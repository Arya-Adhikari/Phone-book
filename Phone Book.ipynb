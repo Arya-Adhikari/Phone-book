{
 "cells": [
  {
   "cell_type": "code",
   "execution_count": null,
   "id": "a6fa18f2-9ca7-4615-b55a-6e156234e3ca",
   "metadata": {},
   "outputs": [],
   "source": [
    "import numpy as np\n",
    "import pandas as pd\n",
    "\n",
    "class PhoneBook:\n",
    "    def __init__(self):\n",
    "        # Initialize a DataFrame with empty values\n",
    "        self.data = pd.DataFrame(columns=[\"Name\", \"Phone Number\"])\n",
    "\n",
    "    def add_contact(self, name, phone_number):\n",
    "        # Add a new contact to the DataFrame\n",
    "        new_contact = pd.DataFrame([[name, phone_number]], columns=[\"Name\", \"Phone Number\"])\n",
    "        self.data = pd.concat([self.data, new_contact], ignore_index=True)\n",
    "\n",
    "    def search_contact(self, name):\n",
    "        # Search for contact by name\n",
    "        contact = self.data[self.data[\"Name\"].str.contains(name, case=False)]\n",
    "        return contact if not contact.empty else \"Contact not found\"\n",
    "\n",
    "# Example usage:\n",
    "phone_book = PhoneBook()\n",
    "\n",
    "# Adding contacts\n",
    "phone_book.add_contact(\"John Doe\", \"123-456-7890\")\n",
    "phone_book.add_contact(\"Jane Smith\", \"987-654-3210\")\n",
    "\n",
    "# Search for a contact\n",
    "print(phone_book.search_contact(\"John\"))\n",
    "print(phone_book.search_contact(\"Alice\"))\n"
   ]
  }
 ],
 "metadata": {
  "kernelspec": {
   "display_name": "Python 3 (ipykernel)",
   "language": "python",
   "name": "python3"
  },
  "language_info": {
   "codemirror_mode": {
    "name": "ipython",
    "version": 3
   },
   "file_extension": ".py",
   "mimetype": "text/x-python",
   "name": "python",
   "nbconvert_exporter": "python",
   "pygments_lexer": "ipython3",
   "version": "3.12.4"
  }
 },
 "nbformat": 4,
 "nbformat_minor": 5
}
